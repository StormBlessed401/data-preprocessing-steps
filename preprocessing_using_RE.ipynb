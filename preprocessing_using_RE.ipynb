{
  "nbformat": 4,
  "nbformat_minor": 0,
  "metadata": {
    "colab": {
      "provenance": []
    },
    "kernelspec": {
      "name": "python3",
      "display_name": "Python 3"
    },
    "language_info": {
      "name": "python"
    }
  },
  "cells": [
    {
      "cell_type": "code",
      "execution_count": null,
      "metadata": {
        "id": "jVbF7XZC9yue"
      },
      "outputs": [],
      "source": [
        "# Problem 1\n",
        "# Apply all the preprocessing techniques that you think are necessary\n",
        "import pandas as pd\n",
        "import re\n",
        "import string\n",
        "import nltk\n",
        "from nltk.corpus import stopwords\n",
        "\n",
        "nltk.download('stopwords')\n",
        "stop_words = set(stopwords.words('english'))\n",
        "\n",
        "df=pd.read_csv(\"IMDB Dataset.csv\")\n",
        "df.head()\n",
        "\n",
        "\n",
        "def clean_text(text):\n",
        "    text = text.lower()                                # Lowercase\n",
        "    text = re.sub(r'\\d+', '', text)                    # Remove numbers\n",
        "    text = re.sub(r\"http\\S+|www\\S+\", \"\", text)         # remove links\n",
        "    text = re.sub(r\"<[^>]+>\", \"\", text)                 # remove html tags\n",
        "    text = text.translate(str.maketrans('', '', string.punctuation))  # Remove punctuation\n",
        "    text = re.sub(r'\\s+', ' ', text).strip()           # Remove extra whitespace\n",
        "    words = text.split()\n",
        "    words = [w for w in words if w not in stop_words]  # Remove stopwords\n",
        "    return ' '.join(words)\n",
        "\n",
        "# Apply cleaning function\n",
        "df['CleanReview'] = df['review'].apply(clean_text)\n",
        "# creating new csv file with the two columns\n",
        "df[['CleanReview', 'sentiment']].to_csv(\"cleaned_movie_data.csv\", index=False)\n",
        "\n",
        "\n",
        "# Preview\n",
        "print(df[['CleanReview', 'sentiment']])"
      ]
    }
  ]
}